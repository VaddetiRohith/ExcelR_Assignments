{
 "cells": [
  {
   "cell_type": "code",
   "execution_count": 1,
   "id": "0018db69",
   "metadata": {},
   "outputs": [],
   "source": [
    "import scrapy\n",
    "\n",
    "class AmazonReviewsSpider(scrapy.Spider):\n",
    "\n",
    "    # Spider name\n",
    "    name = 'amazon_reviews'\n",
    "\n",
    "    # Domain names to scrape\n",
    "    allowed_domains = ['amazon.in']\n",
    "\n",
    "    # Base URL for the product reviews\n",
    "    myBaseUrl = \"https://www.amazon.in/Samsung-Graphite-Storage-Additional-Exchange/product-reviews/B0B8SP358P/ref=cm_cr_dp_d_show_all_btm?ie=UTF8&reviewerType=all_reviews\"\n",
    "    start_urls=[]\n",
    "\n",
    "    # Creating list of urls to be scraped by appending page number a the end of base url\n",
    "    for i in range(1,121):\n",
    "        start_urls.append(myBaseUrl+str(i))\n",
    "\n",
    "    # Defining a Scrapy parser\n",
    "    def parse(self, response):\n",
    "            data = response.css('#cm_cr-review_list')\n",
    "            \n",
    "            # Collecting product star ratings\n",
    "            star_rating = data.css('.review-rating')\n",
    "\n",
    "            # Collecting user reviews\n",
    "            comments = data.css('.review-text')\n",
    "            count = 0\n",
    "\n",
    "            # Combining the results\n",
    "            for review in star_rating:\n",
    "                yield{'stars': \n",
    "                      ''.join(review.xpath('.//text()').extract()),\n",
    "                      'comment': \n",
    "                          ''.join(comments[count].xpath(\".//text()\").extract())\n",
    "                     }\n",
    "                count=count+1"
   ]
  },
  {
   "cell_type": "markdown",
   "id": "716eba0b",
   "metadata": {},
   "source": [
    "**Link to download reviews from amazon https://medium.com/codex/text-mining-how-to-extract-amazon-reviews-using-scrapy-5bd709cb826c**\n",
    "\n",
    "**To Extract reviews from amazon use below command in prompt**\n",
    "\n",
    "**scrapy runspider Scrape_AmazonReviews\\Scrape_AmazonReviews\\spiders\\extract_reviews.py -o extract_reviews.csv**"
   ]
  },
  {
   "cell_type": "code",
   "execution_count": null,
   "id": "9ca66a42",
   "metadata": {},
   "outputs": [],
   "source": []
  }
 ],
 "metadata": {
  "kernelspec": {
   "display_name": "Python 3 (ipykernel)",
   "language": "python",
   "name": "python3"
  },
  "language_info": {
   "codemirror_mode": {
    "name": "ipython",
    "version": 3
   },
   "file_extension": ".py",
   "mimetype": "text/x-python",
   "name": "python",
   "nbconvert_exporter": "python",
   "pygments_lexer": "ipython3",
   "version": "3.9.16"
  }
 },
 "nbformat": 4,
 "nbformat_minor": 5
}
